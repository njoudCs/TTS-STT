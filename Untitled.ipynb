{
 "cells": [
  {
   "cell_type": "code",
   "execution_count": 1,
   "id": "2ef92432",
   "metadata": {},
   "outputs": [
    {
     "name": "stdout",
     "output_type": "stream",
     "text": [
      "Requirement already satisfied: ibm_watson in c:\\users\\njood\\dropbox\\my pc (laptop-lrnqqdpp)\\desktop\\lib\\site-packages (5.2.2)\n",
      "Requirement already satisfied: requests<3.0,>=2.0 in c:\\users\\njood\\dropbox\\my pc (laptop-lrnqqdpp)\\desktop\\lib\\site-packages (from ibm_watson) (2.26.0)\n",
      "Requirement already satisfied: python-dateutil>=2.5.3 in c:\\users\\njood\\dropbox\\my pc (laptop-lrnqqdpp)\\desktop\\lib\\site-packages (from ibm_watson) (2.8.2)\n",
      "Requirement already satisfied: ibm-cloud-sdk-core==3.*,>=3.3.6 in c:\\users\\njood\\dropbox\\my pc (laptop-lrnqqdpp)\\desktop\\lib\\site-packages (from ibm_watson) (3.10.1)\n",
      "Requirement already satisfied: websocket-client==1.1.0 in c:\\users\\njood\\dropbox\\my pc (laptop-lrnqqdpp)\\desktop\\lib\\site-packages (from ibm_watson) (1.1.0)\n",
      "Requirement already satisfied: PyJWT<3.0.0,>=2.0.1 in c:\\users\\njood\\dropbox\\my pc (laptop-lrnqqdpp)\\desktop\\lib\\site-packages (from ibm-cloud-sdk-core==3.*,>=3.3.6->ibm_watson) (2.1.0)\n",
      "Requirement already satisfied: six>=1.5 in c:\\users\\njood\\dropbox\\my pc (laptop-lrnqqdpp)\\desktop\\lib\\site-packages (from python-dateutil>=2.5.3->ibm_watson) (1.16.0)\n",
      "Requirement already satisfied: certifi>=2017.4.17 in c:\\users\\njood\\dropbox\\my pc (laptop-lrnqqdpp)\\desktop\\lib\\site-packages (from requests<3.0,>=2.0->ibm_watson) (2021.5.30)\n",
      "Requirement already satisfied: idna<4,>=2.5 in c:\\users\\njood\\dropbox\\my pc (laptop-lrnqqdpp)\\desktop\\lib\\site-packages (from requests<3.0,>=2.0->ibm_watson) (3.2)\n",
      "Requirement already satisfied: charset-normalizer~=2.0.0 in c:\\users\\njood\\dropbox\\my pc (laptop-lrnqqdpp)\\desktop\\lib\\site-packages (from requests<3.0,>=2.0->ibm_watson) (2.0.3)\n",
      "Requirement already satisfied: urllib3<1.27,>=1.21.1 in c:\\users\\njood\\dropbox\\my pc (laptop-lrnqqdpp)\\desktop\\lib\\site-packages (from requests<3.0,>=2.0->ibm_watson) (1.26.6)\n"
     ]
    },
    {
     "name": "stderr",
     "output_type": "stream",
     "text": [
      "WARNING: You are using pip version 21.1.3; however, version 21.2.1 is available.\n",
      "You should consider upgrading via the 'c:\\users\\njood\\dropbox\\my pc (laptop-lrnqqdpp)\\desktop\\python.exe -m pip install --upgrade pip' command.\n"
     ]
    }
   ],
   "source": [
    "!pip install ibm_watson\n"
   ]
  },
  {
   "cell_type": "code",
   "execution_count": 4,
   "id": "207af11a",
   "metadata": {},
   "outputs": [],
   "source": [
    "from ibm_watson import TextToSpeechV1\n",
    "from ibm_cloud_sdk_core.authenticators import IAMAuthenticator"
   ]
  },
  {
   "cell_type": "code",
   "execution_count": 6,
   "id": "d0d38351",
   "metadata": {},
   "outputs": [],
   "source": [
    "apikey = 'h2x5CMA3Uf6x6Y2O-U-8_Yg905-C15Mbp4Uf5qzK2vK2'\n",
    "url = 'https://api.us-south.text-to-speech.watson.cloud.ibm.com/instances/79cea853-eb89-4735-8bb0-49e57c8c4129'"
   ]
  },
  {
   "cell_type": "code",
   "execution_count": 7,
   "id": "51fc1fdd",
   "metadata": {},
   "outputs": [],
   "source": [
    "# Setup Service\n",
    "authenticator = IAMAuthenticator(apikey)\n",
    "tts = TextToSpeechV1(authenticator=authenticator)\n",
    "tts.set_service_url(url)"
   ]
  },
  {
   "cell_type": "code",
   "execution_count": 8,
   "id": "b7f4cf87",
   "metadata": {},
   "outputs": [],
   "source": [
    "\n",
    "with open('./problem1.mp3', 'wb') as audio_file:\n",
    "    res = tts.synthesize('Hello a have problem!', accept='audio/mp3', voice='en-US_AllisonV3Voice').get_result()\n",
    "    audio_file.write(res.content)"
   ]
  },
  {
   "cell_type": "code",
   "execution_count": 9,
   "id": "641d44df",
   "metadata": {},
   "outputs": [],
   "source": [
    "with open('p.txt', 'r') as f:\n",
    "    text = f.readlines()"
   ]
  },
  {
   "cell_type": "code",
   "execution_count": 10,
   "id": "4a774d16",
   "metadata": {},
   "outputs": [
    {
     "data": {
      "text/plain": [
       "['\\n',\n",
       " 'How can I solve the problem of my laptop?\\n',\n",
       " 'You open up your laptop, power it on, hear it running, but the screen is black. Solution: Unplug the power, remove the battery and then hold the power button for 30 to 60 seconds. Reattach the power cord and re-boot. Then shut down again, put in the battery and re-boo']"
      ]
     },
     "execution_count": 10,
     "metadata": {},
     "output_type": "execute_result"
    }
   ],
   "source": [
    "text"
   ]
  },
  {
   "cell_type": "code",
   "execution_count": 11,
   "id": "b5374af0",
   "metadata": {},
   "outputs": [],
   "source": [
    "text = [line.replace('\\n','') for line in text]"
   ]
  },
  {
   "cell_type": "code",
   "execution_count": 12,
   "id": "1777384d",
   "metadata": {},
   "outputs": [
    {
     "data": {
      "text/plain": [
       "['',\n",
       " 'How can I solve the problem of my laptop?',\n",
       " 'You open up your laptop, power it on, hear it running, but the screen is black. Solution: Unplug the power, remove the battery and then hold the power button for 30 to 60 seconds. Reattach the power cord and re-boot. Then shut down again, put in the battery and re-boo']"
      ]
     },
     "execution_count": 12,
     "metadata": {},
     "output_type": "execute_result"
    }
   ],
   "source": [
    "text"
   ]
  },
  {
   "cell_type": "code",
   "execution_count": null,
   "id": "d88eb292",
   "metadata": {},
   "outputs": [],
   "source": []
  }
 ],
 "metadata": {
  "kernelspec": {
   "display_name": "Python 3 (ipykernel)",
   "language": "python",
   "name": "python3"
  },
  "language_info": {
   "codemirror_mode": {
    "name": "ipython",
    "version": 3
   },
   "file_extension": ".py",
   "mimetype": "text/x-python",
   "name": "python",
   "nbconvert_exporter": "python",
   "pygments_lexer": "ipython3",
   "version": "3.9.6"
  }
 },
 "nbformat": 4,
 "nbformat_minor": 5
}
